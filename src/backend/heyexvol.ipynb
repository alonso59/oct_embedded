{
 "cells": [
  {
   "cell_type": "code",
   "execution_count": null,
   "metadata": {},
   "outputs": [],
   "source": [
    "import heyexReader as ep\n",
    "import matplotlib.pyplot as plt\n",
    "oct = ep.volFile('../../dataset/hopkins/vol/ms13_spectralis_macula_v1_s1_R.vol')\n",
    "# print(oct.oct[24, :, :])\n",
    "# plt.figure()\n",
    "# plt.imshow(oct.irslo, cmap='gray')\n",
    "# plt.figure()\n",
    "# plt.imshow(oct.oct[24, :, :], cmap='gray')\n",
    "# print(oct.fileHeader['numBscan']//2)"
   ]
  },
  {
   "cell_type": "code",
   "execution_count": null,
   "metadata": {},
   "outputs": [],
   "source": [
    "import torch"
   ]
  }
 ],
 "metadata": {
  "kernelspec": {
   "display_name": "Python 3.7.13 ('emb36v1')",
   "language": "python",
   "name": "python3"
  },
  "language_info": {
   "codemirror_mode": {
    "name": "ipython",
    "version": 3
   },
   "file_extension": ".py",
   "mimetype": "text/x-python",
   "name": "python",
   "nbconvert_exporter": "python",
   "pygments_lexer": "ipython3",
   "version": "3.7.13"
  },
  "orig_nbformat": 4,
  "vscode": {
   "interpreter": {
    "hash": "71d7b19f96927cad61a8bca57051aa1da6359704bc5d72fe6d1c4b96cbe74572"
   }
  }
 },
 "nbformat": 4,
 "nbformat_minor": 2
}
