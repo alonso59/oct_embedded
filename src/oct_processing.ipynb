{
 "cells": [
  {
   "cell_type": "code",
   "execution_count": null,
   "metadata": {},
   "outputs": [],
   "source": [
    "import torch\n",
    "from oct_library import OCTProcessing\n",
    "model_path = '/home/jetson/Documents/oct_embedded/model.pth'\n",
    "oc_file = '/home/jetson/Documents/oct_embedded/dataset/hopkins/hc01_spectralis_macula_v1_s1_R.vol'\n",
    "model = torch.load(model_path, map_location='cpu')\n",
    "#model = model.half()\n",
    "# # 'fbgemm' for server, 'qnnpack' for mobile\n",
    "backend = 'qnnpack'\n",
    "\n",
    "torch.backends.quantized.engine = backend\n",
    "\n",
    "model.qconfig = torch.quantization.get_default_qconfig(backend)\n",
    "\n",
    "# # insert observers\n",
    "torch.quantization.prepare(model, inplace=True)\n",
    "\n",
    "# # convert to quantized version\n",
    "torch.quantization.convert(model, inplace=True)"
   ]
  },
  {
   "cell_type": "code",
   "execution_count": null,
   "metadata": {},
   "outputs": [],
   "source": [
    "oct_process = OCTProcessing(oct_file=oc_file, torchmodel=model) # 125, 36, 10, 68, 15"
   ]
  },
  {
   "cell_type": "code",
   "execution_count": null,
   "metadata": {},
   "outputs": [],
   "source": [
    "oct_process.plot_slo_fovea()"
   ]
  },
  {
   "cell_type": "code",
   "execution_count": null,
   "metadata": {},
   "outputs": [],
   "source": [
    "oct_process.plot_overlay_oct_segmentation()\n",
    "oct_process.plot_segmentation_full()\n",
    "oct_process.get_individual_layers_segmentation(layer=[False, True, True, True, True, True, True,False, True, True])\n",
    "oct_process.plot_selected_layers()"
   ]
  },
  {
   "cell_type": "code",
   "execution_count": null,
   "metadata": {},
   "outputs": [],
   "source": []
  }
 ],
 "metadata": {
  "kernelspec": {
   "display_name": "Python 3.6.9 64-bit",
   "language": "python",
   "name": "python3"
  },
  "language_info": {
   "codemirror_mode": {
    "name": "ipython",
    "version": 3
   },
   "file_extension": ".py",
   "mimetype": "text/x-python",
   "name": "python",
   "nbconvert_exporter": "python",
   "pygments_lexer": "ipython3",
   "version": "3.6.9"
  },
  "orig_nbformat": 4,
  "vscode": {
   "interpreter": {
    "hash": "31f2aee4e71d21fbe5cf8b01ff0e069b9275f58929596ceb00d14d90e3e16cd6"
   }
  }
 },
 "nbformat": 4,
 "nbformat_minor": 2
}
