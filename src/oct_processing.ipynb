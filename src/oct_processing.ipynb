{
 "cells": [
  {
   "cell_type": "code",
   "execution_count": null,
   "metadata": {},
   "outputs": [],
   "source": [
    "import torch\n",
    "import torch.nn as nn\n",
    "from oct_library import OCTProcessing\n",
    "model_path = '../logs/2022-11-09_19_35_23/checkpoints/model.pth'\n",
    "oc_file = '../dataset/vol/hc04_spectralis_macula_v1_s1_R.vol'\n",
    "model = torch.load(model_path, map_location='cuda')\n",
    "# model = model.half()\n"
   ]
  },
  {
   "cell_type": "code",
   "execution_count": null,
   "metadata": {},
   "outputs": [],
   "source": [
    "\n",
    "import torch.onnx\n",
    "dummy_input=torch.randn(32, 1, 256, 256, device='cuda')\n",
    "torch.onnx.export(model, dummy_input, \"unet_oct.onnx\", verbose=True)\n"
   ]
  },
  {
   "cell_type": "code",
   "execution_count": null,
   "metadata": {},
   "outputs": [],
   "source": [
    "import tensorrt\n",
    "!trtexec --onnx=unet_oct.onnx --saveEngine=unet_engine_pytorch.trt  --explicitBatch --inputIOFormats=fp16:chw --outputIOFormats=fp16:chw --fp16"
   ]
  },
  {
   "cell_type": "code",
   "execution_count": null,
   "metadata": {},
   "outputs": [],
   "source": [
    "import numpy as np\n",
    "oct_process = OCTProcessing(oct_file=oc_file, torchmodel=model, half=False, device='cuda') # 125, 36, 10, 68, 15\n",
    "oct_process.fovea_forward(imgh=256, imgw=256)\n",
    "# tempCPU = []\n",
    "# tempGPU = []\n",
    "# pwCPU = []\n",
    "# pwGPU = []\n",
    "# fps = []\n",
    "\n",
    "for i in range(100):\n",
    "    oct_process.fovea_forward(imgh=256, imgw=256)\n",
    "#     fps.append(oct_process.FPS)\n",
    "#     tempCPU.append(temp_cpu)\n",
    "\n",
    "# print('FPS', np.array(fps).mean(), np.array(fps).std())\n",
    "# print('temp CPU', np.array(tempCPU).mean(), np.array(tempCPU).std())\n",
    "# print('temp GPU',np.array(tempGPU).mean(), np.array(tempGPU).std())\n",
    "# print('Power CPU',np.array(pwCPU).mean(), np.array(pwCPU).std())\n",
    "# print('Power GPU',np.array(pwGPU).mean(), np.array(pwGPU).std())"
   ]
  },
  {
   "cell_type": "code",
   "execution_count": null,
   "metadata": {},
   "outputs": [],
   "source": [
    "oct_process.plot_slo_fovea()\n"
   ]
  },
  {
   "cell_type": "code",
   "execution_count": null,
   "metadata": {},
   "outputs": [],
   "source": [
    "oct_process.plot_overlay_oct_segmentation()\n",
    "oct_process.plot_segmentation_full()\n",
    "oct_process.get_individual_layers_segmentation(layer=[False, True, True, False, True, True, False, False, True])\n",
    "oct_process.plot_selected_layers()"
   ]
  }
 ],
 "metadata": {
  "kernelspec": {
   "display_name": "Python 3.6.13 ('emb36')",
   "language": "python",
   "name": "python3"
  },
  "language_info": {
   "codemirror_mode": {
    "name": "ipython",
    "version": 3
   },
   "file_extension": ".py",
   "mimetype": "text/x-python",
   "name": "python",
   "nbconvert_exporter": "python",
   "pygments_lexer": "ipython3",
   "version": "3.6.13"
  },
  "orig_nbformat": 4,
  "vscode": {
   "interpreter": {
    "hash": "720d895620f9455f7c259784a57ccec9044d6755a7a19969a90a3133c5d232c0"
   }
  }
 },
 "nbformat": 4,
 "nbformat_minor": 2
}
