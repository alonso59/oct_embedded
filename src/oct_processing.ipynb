{
 "cells": [
  {
   "cell_type": "code",
   "execution_count": null,
   "metadata": {},
   "outputs": [],
   "source": [
    "import torch\n",
    "from oct_library import OCTProcessing\n",
    "model_path = '/home/jetson/Documents/oct_embedded/model.pth'\n",
    "oc_file = '/home/jetson/Documents/oct_embedded/dataset/hopkins/hc01_spectralis_macula_v1_s1_R.vol'\n",
    "model = torch.load(model_path, map_location='cuda')"
   ]
  },
  {
   "cell_type": "code",
   "execution_count": null,
   "metadata": {},
   "outputs": [],
   "source": [
    "\n",
    "oct_process = OCTProcessing(oct_file=oc_file, torchmodel=model) # 125, 36, 10, 68, 15"
   ]
  },
  {
   "cell_type": "code",
   "execution_count": null,
   "metadata": {},
   "outputs": [],
   "source": [
    "oct_process.plot_slo_fovea()"
   ]
  },
  {
   "cell_type": "code",
   "execution_count": null,
   "metadata": {},
   "outputs": [],
   "source": [
    "oct_process.fovea_forward(gamma=1.5, alpha=0.02, imgh=512, imgw=512)\n",
    "oct_process.plot_overlay_oct_segmentation()\n",
    "oct_process.plot_segmentation_full()\n",
    "oct_process.get_individual_layers_segmentation(layer=[False, True, False, False, False, True, False, False, False, False])\n",
    "oct_process.plot_selected_layers()"
   ]
  }
 ],
 "metadata": {
  "kernelspec": {
   "display_name": "Python 3.6.13 ('emb36')",
   "language": "python",
   "name": "python3"
  },
  "language_info": {
   "codemirror_mode": {
    "name": "ipython",
    "version": 3
   },
   "file_extension": ".py",
   "mimetype": "text/x-python",
   "name": "python",
   "nbconvert_exporter": "python",
   "pygments_lexer": "ipython3",
   "version": "3.6.13"
  },
  "orig_nbformat": 4,
  "vscode": {
   "interpreter": {
    "hash": "720d895620f9455f7c259784a57ccec9044d6755a7a19969a90a3133c5d232c0"
   }
  }
 },
 "nbformat": 4,
 "nbformat_minor": 2
}
