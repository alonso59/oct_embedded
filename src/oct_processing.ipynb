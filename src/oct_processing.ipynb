{
 "cells": [
  {
   "cell_type": "code",
   "execution_count": null,
   "metadata": {},
   "outputs": [],
   "source": [
    "import torch\n",
    "from oct_library import OCTProcessing\n",
    "model_path = '../logs1/2022-11-03_19_52_46/checkpoints/model.pth'\n",
    "oc_file = '../dataset/hopkins/vol/ms17_spectralis_macula_v1_s1_R.vol'\n",
    "model = torch.load(model_path, map_location='cuda')\n",
    "# model = model.half()\n",
    "# # 'fbgemm' for server, 'qnnpack' for mobile\n",
    "# backend = 'qnnpack'\n",
    "# model.qconfig = torch.quantization.get_default_qconfig(backend)\n",
    "\n",
    "# # insert observers\n",
    "# torch.quantization.prepare(model, inplace=True)\n",
    "\n",
    "# # convert to quantized version\n",
    "# torch.quantization.convert(model, inplace=True)"
   ]
  },
  {
   "cell_type": "code",
   "execution_count": null,
   "metadata": {},
   "outputs": [],
   "source": [
    "\n",
    "oct_process = OCTProcessing(oct_file=oc_file, torchmodel=model) # 125, 36, 10, 68, 15"
   ]
  },
  {
   "cell_type": "code",
   "execution_count": null,
   "metadata": {},
   "outputs": [],
   "source": [
    "oct_process.plot_slo_fovea()"
   ]
  },
  {
   "cell_type": "code",
   "execution_count": null,
   "metadata": {},
   "outputs": [],
   "source": [
    "oct_process.plot_overlay_oct_segmentation()\n",
    "oct_process.plot_segmentation_full()\n",
    "oct_process.get_individual_layers_segmentation(layer=[False, True, True, True, True, True, True,False, True, True])\n",
    "oct_process.plot_selected_layers()"
   ]
  },
  {
   "cell_type": "code",
   "execution_count": null,
   "metadata": {},
   "outputs": [],
   "source": []
  }
 ],
 "metadata": {
  "kernelspec": {
   "display_name": "Python 3.7.11 ('torch')",
   "language": "python",
   "name": "python3"
  },
  "language_info": {
   "codemirror_mode": {
    "name": "ipython",
    "version": 3
   },
   "file_extension": ".py",
   "mimetype": "text/x-python",
   "name": "python",
   "nbconvert_exporter": "python",
   "pygments_lexer": "ipython3",
   "version": "3.7.11"
  },
  "orig_nbformat": 4,
  "vscode": {
   "interpreter": {
    "hash": "b24ed838d4a46124cbd36f3ed1e02e24eac4a9a48ec44d5c1200085c82eae051"
   }
  }
 },
 "nbformat": 4,
 "nbformat_minor": 2
}
