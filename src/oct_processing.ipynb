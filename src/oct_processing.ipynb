{
 "cells": [
  {
   "cell_type": "code",
   "execution_count": 5,
   "metadata": {},
   "outputs": [],
   "source": [
    "import torch\n",
    "import torch.nn as nn\n",
    "from oct_library import OCTProcessing\n",
    "model_path = '../logs/2022-11-09_19_35_23/checkpoints/model.pth'\n",
    "oc_file = '../dataset/vol/hc04_spectralis_macula_v1_s1_R.vol'\n",
    "model = torch.load(model_path, map_location='cuda')\n",
    "# model = model.half()\n"
   ]
  },
  {
   "cell_type": "code",
   "execution_count": 8,
   "metadata": {},
   "outputs": [
    {
     "name": "stderr",
     "output_type": "stream",
     "text": [
      "/home/german/Documents/oct_embedded/src/networks/unet.py:127: UserWarning: __floordiv__ is deprecated, and its behavior will change in a future version of pytorch. It currently rounds toward 0 (like the 'trunc' function NOT 'floor'). This results in incorrect rounding for negative values. To keep the current behavior, use torch.div(a, b, rounding_mode='trunc'), or for actual floor division, use torch.div(a, b, rounding_mode='floor').\n",
      "  x1 = F.pad(x1, [diff_w // 2, diff_w - diff_w // 2, diff_h // 2, diff_h - diff_h // 2])\n"
     ]
    },
    {
     "name": "stdout",
     "output_type": "stream",
     "text": [
      "graph(%input.1 : Float(32, 1, 256, 256, strides=[65536, 65536, 256, 1], requires_grad=0, device=cuda:0),\n",
      "      %layers.0.net.0.weight : Float(16, 1, 3, 3, strides=[9, 9, 3, 1], requires_grad=1, device=cuda:0),\n",
      "      %layers.0.net.0.bias : Float(16, strides=[1], requires_grad=1, device=cuda:0),\n",
      "      %layers.0.net.3.weight : Float(16, 16, 3, 3, strides=[144, 9, 3, 1], requires_grad=1, device=cuda:0),\n",
      "      %layers.0.net.3.bias : Float(16, strides=[1], requires_grad=1, device=cuda:0),\n",
      "      %layers.1.net.1.net.0.weight : Float(32, 16, 3, 3, strides=[144, 9, 3, 1], requires_grad=1, device=cuda:0),\n",
      "      %layers.1.net.1.net.0.bias : Float(32, strides=[1], requires_grad=1, device=cuda:0),\n",
      "      %layers.1.net.1.net.3.weight : Float(32, 32, 3, 3, strides=[288, 9, 3, 1], requires_grad=1, device=cuda:0),\n",
      "      %layers.1.net.1.net.3.bias : Float(32, strides=[1], requires_grad=1, device=cuda:0),\n",
      "      %layers.2.net.1.net.0.weight : Float(64, 32, 3, 3, strides=[288, 9, 3, 1], requires_grad=1, device=cuda:0),\n",
      "      %layers.2.net.1.net.0.bias : Float(64, strides=[1], requires_grad=1, device=cuda:0),\n",
      "      %layers.2.net.1.net.3.weight : Float(64, 64, 3, 3, strides=[576, 9, 3, 1], requires_grad=1, device=cuda:0),\n",
      "      %layers.2.net.1.net.3.bias : Float(64, strides=[1], requires_grad=1, device=cuda:0),\n",
      "      %layers.3.net.1.net.0.weight : Float(128, 64, 3, 3, strides=[576, 9, 3, 1], requires_grad=1, device=cuda:0),\n",
      "      %layers.3.net.1.net.0.bias : Float(128, strides=[1], requires_grad=1, device=cuda:0),\n",
      "      %layers.3.net.1.net.3.weight : Float(128, 128, 3, 3, strides=[1152, 9, 3, 1], requires_grad=1, device=cuda:0),\n",
      "      %layers.3.net.1.net.3.bias : Float(128, strides=[1], requires_grad=1, device=cuda:0),\n",
      "      %layers.4.upsample.weight : Float(128, 64, 2, 2, strides=[256, 4, 2, 1], requires_grad=1, device=cuda:0),\n",
      "      %layers.4.upsample.bias : Float(64, strides=[1], requires_grad=1, device=cuda:0),\n",
      "      %layers.4.conv.net.0.weight : Float(64, 128, 3, 3, strides=[1152, 9, 3, 1], requires_grad=1, device=cuda:0),\n",
      "      %layers.4.conv.net.0.bias : Float(64, strides=[1], requires_grad=1, device=cuda:0),\n",
      "      %layers.4.conv.net.3.weight : Float(64, 64, 3, 3, strides=[576, 9, 3, 1], requires_grad=1, device=cuda:0),\n",
      "      %layers.4.conv.net.3.bias : Float(64, strides=[1], requires_grad=1, device=cuda:0),\n",
      "      %layers.5.upsample.weight : Float(64, 32, 2, 2, strides=[128, 4, 2, 1], requires_grad=1, device=cuda:0),\n",
      "      %layers.5.upsample.bias : Float(32, strides=[1], requires_grad=1, device=cuda:0),\n",
      "      %layers.5.conv.net.0.weight : Float(32, 64, 3, 3, strides=[576, 9, 3, 1], requires_grad=1, device=cuda:0),\n",
      "      %layers.5.conv.net.0.bias : Float(32, strides=[1], requires_grad=1, device=cuda:0),\n",
      "      %layers.5.conv.net.3.weight : Float(32, 32, 3, 3, strides=[288, 9, 3, 1], requires_grad=1, device=cuda:0),\n",
      "      %layers.5.conv.net.3.bias : Float(32, strides=[1], requires_grad=1, device=cuda:0),\n",
      "      %layers.6.upsample.weight : Float(32, 16, 2, 2, strides=[64, 4, 2, 1], requires_grad=1, device=cuda:0),\n",
      "      %layers.6.upsample.bias : Float(16, strides=[1], requires_grad=1, device=cuda:0),\n",
      "      %layers.6.conv.net.0.weight : Float(16, 32, 3, 3, strides=[288, 9, 3, 1], requires_grad=1, device=cuda:0),\n",
      "      %layers.6.conv.net.0.bias : Float(16, strides=[1], requires_grad=1, device=cuda:0),\n",
      "      %layers.6.conv.net.3.weight : Float(16, 16, 3, 3, strides=[144, 9, 3, 1], requires_grad=1, device=cuda:0),\n",
      "      %layers.6.conv.net.3.bias : Float(16, strides=[1], requires_grad=1, device=cuda:0),\n",
      "      %layers.7.weight : Float(9, 16, 1, 1, strides=[16, 1, 1, 1], requires_grad=1, device=cuda:0),\n",
      "      %layers.7.bias : Float(9, strides=[1], requires_grad=1, device=cuda:0)):\n",
      "  %37 : Float(32, 16, 256, 256, strides=[1048576, 65536, 256, 1], requires_grad=1, device=cuda:0) = onnx::Conv[dilations=[1, 1], group=1, kernel_shape=[3, 3], pads=[1, 1, 1, 1], strides=[1, 1]](%input.1, %layers.0.net.0.weight, %layers.0.net.0.bias) # /home/german/anaconda3/envs/emb36/lib/python3.6/site-packages/torch/nn/modules/conv.py:443:0\n",
      "  %38 : Float(32, 16, 256, 256, strides=[1048576, 65536, 256, 1], requires_grad=1, device=cuda:0) = onnx::LeakyRelu[alpha=0.01](%37) # /home/german/anaconda3/envs/emb36/lib/python3.6/site-packages/torch/nn/functional.py:1473:0\n",
      "  %39 : Float(16, strides=[1], device=cpu) = onnx::Constant[value=<Tensor>]()\n",
      "  %40 : Float(16, strides=[1], device=cpu) = onnx::Constant[value=<Tensor>]()\n",
      "  %41 : Float(32, 16, 256, 256, strides=[1048576, 65536, 256, 1], requires_grad=1, device=cuda:0) = onnx::InstanceNormalization[epsilon=1.0000000000000001e-05](%38, %39, %40) # /home/german/anaconda3/envs/emb36/lib/python3.6/site-packages/torch/nn/functional.py:2328:0\n",
      "  %42 : Float(32, 16, 256, 256, strides=[1048576, 65536, 256, 1], requires_grad=1, device=cuda:0) = onnx::Conv[dilations=[1, 1], group=1, kernel_shape=[3, 3], pads=[1, 1, 1, 1], strides=[1, 1]](%41, %layers.0.net.3.weight, %layers.0.net.3.bias) # /home/german/anaconda3/envs/emb36/lib/python3.6/site-packages/torch/nn/modules/conv.py:443:0\n",
      "  %43 : Float(32, 16, 256, 256, strides=[1048576, 65536, 256, 1], requires_grad=1, device=cuda:0) = onnx::LeakyRelu[alpha=0.01](%42) # /home/german/anaconda3/envs/emb36/lib/python3.6/site-packages/torch/nn/functional.py:1473:0\n",
      "  %44 : Float(16, strides=[1], device=cpu) = onnx::Constant[value=<Tensor>]()\n",
      "  %45 : Float(16, strides=[1], device=cpu) = onnx::Constant[value=<Tensor>]()\n",
      "  %46 : Float(32, 16, 256, 256, strides=[1048576, 65536, 256, 1], requires_grad=1, device=cuda:0) = onnx::InstanceNormalization[epsilon=1.0000000000000001e-05](%43, %44, %45) # /home/german/anaconda3/envs/emb36/lib/python3.6/site-packages/torch/nn/functional.py:2328:0\n",
      "  %47 : Float(32, 16, 128, 128, strides=[262144, 16384, 128, 1], requires_grad=1, device=cuda:0) = onnx::MaxPool[kernel_shape=[2, 2], pads=[0, 0, 0, 0], strides=[2, 2]](%46) # /home/german/anaconda3/envs/emb36/lib/python3.6/site-packages/torch/nn/functional.py:719:0\n",
      "  %48 : Float(32, 32, 128, 128, strides=[524288, 16384, 128, 1], requires_grad=1, device=cuda:0) = onnx::Conv[dilations=[1, 1], group=1, kernel_shape=[3, 3], pads=[1, 1, 1, 1], strides=[1, 1]](%47, %layers.1.net.1.net.0.weight, %layers.1.net.1.net.0.bias) # /home/german/anaconda3/envs/emb36/lib/python3.6/site-packages/torch/nn/modules/conv.py:443:0\n",
      "  %49 : Float(32, 32, 128, 128, strides=[524288, 16384, 128, 1], requires_grad=1, device=cuda:0) = onnx::LeakyRelu[alpha=0.01](%48) # /home/german/anaconda3/envs/emb36/lib/python3.6/site-packages/torch/nn/functional.py:1473:0\n",
      "  %50 : Float(32, strides=[1], device=cpu) = onnx::Constant[value=<Tensor>]()\n",
      "  %51 : Float(32, strides=[1], device=cpu) = onnx::Constant[value=<Tensor>]()\n",
      "  %52 : Float(32, 32, 128, 128, strides=[524288, 16384, 128, 1], requires_grad=1, device=cuda:0) = onnx::InstanceNormalization[epsilon=1.0000000000000001e-05](%49, %50, %51) # /home/german/anaconda3/envs/emb36/lib/python3.6/site-packages/torch/nn/functional.py:2328:0\n",
      "  %53 : Float(32, 32, 128, 128, strides=[524288, 16384, 128, 1], requires_grad=1, device=cuda:0) = onnx::Conv[dilations=[1, 1], group=1, kernel_shape=[3, 3], pads=[1, 1, 1, 1], strides=[1, 1]](%52, %layers.1.net.1.net.3.weight, %layers.1.net.1.net.3.bias) # /home/german/anaconda3/envs/emb36/lib/python3.6/site-packages/torch/nn/modules/conv.py:443:0\n",
      "  %54 : Float(32, 32, 128, 128, strides=[524288, 16384, 128, 1], requires_grad=1, device=cuda:0) = onnx::LeakyRelu[alpha=0.01](%53) # /home/german/anaconda3/envs/emb36/lib/python3.6/site-packages/torch/nn/functional.py:1473:0\n",
      "  %55 : Float(32, strides=[1], device=cpu) = onnx::Constant[value=<Tensor>]()\n",
      "  %56 : Float(32, strides=[1], device=cpu) = onnx::Constant[value=<Tensor>]()\n",
      "  %57 : Float(32, 32, 128, 128, strides=[524288, 16384, 128, 1], requires_grad=1, device=cuda:0) = onnx::InstanceNormalization[epsilon=1.0000000000000001e-05](%54, %55, %56) # /home/german/anaconda3/envs/emb36/lib/python3.6/site-packages/torch/nn/functional.py:2328:0\n",
      "  %58 : Float(32, 32, 64, 64, strides=[131072, 4096, 64, 1], requires_grad=1, device=cuda:0) = onnx::MaxPool[kernel_shape=[2, 2], pads=[0, 0, 0, 0], strides=[2, 2]](%57) # /home/german/anaconda3/envs/emb36/lib/python3.6/site-packages/torch/nn/functional.py:719:0\n",
      "  %59 : Float(32, 64, 64, 64, strides=[262144, 4096, 64, 1], requires_grad=1, device=cuda:0) = onnx::Conv[dilations=[1, 1], group=1, kernel_shape=[3, 3], pads=[1, 1, 1, 1], strides=[1, 1]](%58, %layers.2.net.1.net.0.weight, %layers.2.net.1.net.0.bias) # /home/german/anaconda3/envs/emb36/lib/python3.6/site-packages/torch/nn/modules/conv.py:443:0\n",
      "  %60 : Float(32, 64, 64, 64, strides=[262144, 4096, 64, 1], requires_grad=1, device=cuda:0) = onnx::LeakyRelu[alpha=0.01](%59) # /home/german/anaconda3/envs/emb36/lib/python3.6/site-packages/torch/nn/functional.py:1473:0\n",
      "  %61 : Float(64, strides=[1], device=cpu) = onnx::Constant[value=<Tensor>]()\n",
      "  %62 : Float(64, strides=[1], device=cpu) = onnx::Constant[value=<Tensor>]()\n",
      "  %63 : Float(32, 64, 64, 64, strides=[262144, 4096, 64, 1], requires_grad=1, device=cuda:0) = onnx::InstanceNormalization[epsilon=1.0000000000000001e-05](%60, %61, %62) # /home/german/anaconda3/envs/emb36/lib/python3.6/site-packages/torch/nn/functional.py:2328:0\n",
      "  %64 : Float(32, 64, 64, 64, strides=[262144, 4096, 64, 1], requires_grad=1, device=cuda:0) = onnx::Conv[dilations=[1, 1], group=1, kernel_shape=[3, 3], pads=[1, 1, 1, 1], strides=[1, 1]](%63, %layers.2.net.1.net.3.weight, %layers.2.net.1.net.3.bias) # /home/german/anaconda3/envs/emb36/lib/python3.6/site-packages/torch/nn/modules/conv.py:443:0\n",
      "  %65 : Float(32, 64, 64, 64, strides=[262144, 4096, 64, 1], requires_grad=1, device=cuda:0) = onnx::LeakyRelu[alpha=0.01](%64) # /home/german/anaconda3/envs/emb36/lib/python3.6/site-packages/torch/nn/functional.py:1473:0\n",
      "  %66 : Float(64, strides=[1], device=cpu) = onnx::Constant[value=<Tensor>]()\n",
      "  %67 : Float(64, strides=[1], device=cpu) = onnx::Constant[value=<Tensor>]()\n",
      "  %68 : Float(32, 64, 64, 64, strides=[262144, 4096, 64, 1], requires_grad=1, device=cuda:0) = onnx::InstanceNormalization[epsilon=1.0000000000000001e-05](%65, %66, %67) # /home/german/anaconda3/envs/emb36/lib/python3.6/site-packages/torch/nn/functional.py:2328:0\n",
      "  %69 : Float(32, 64, 32, 32, strides=[65536, 1024, 32, 1], requires_grad=1, device=cuda:0) = onnx::MaxPool[kernel_shape=[2, 2], pads=[0, 0, 0, 0], strides=[2, 2]](%68) # /home/german/anaconda3/envs/emb36/lib/python3.6/site-packages/torch/nn/functional.py:719:0\n",
      "  %70 : Float(32, 128, 32, 32, strides=[131072, 1024, 32, 1], requires_grad=1, device=cuda:0) = onnx::Conv[dilations=[1, 1], group=1, kernel_shape=[3, 3], pads=[1, 1, 1, 1], strides=[1, 1]](%69, %layers.3.net.1.net.0.weight, %layers.3.net.1.net.0.bias) # /home/german/anaconda3/envs/emb36/lib/python3.6/site-packages/torch/nn/modules/conv.py:443:0\n",
      "  %71 : Float(32, 128, 32, 32, strides=[131072, 1024, 32, 1], requires_grad=1, device=cuda:0) = onnx::LeakyRelu[alpha=0.01](%70) # /home/german/anaconda3/envs/emb36/lib/python3.6/site-packages/torch/nn/functional.py:1473:0\n",
      "  %72 : Float(128, strides=[1], device=cpu) = onnx::Constant[value=<Tensor>]()\n",
      "  %73 : Float(128, strides=[1], device=cpu) = onnx::Constant[value=<Tensor>]()\n",
      "  %74 : Float(32, 128, 32, 32, strides=[131072, 1024, 32, 1], requires_grad=1, device=cuda:0) = onnx::InstanceNormalization[epsilon=1.0000000000000001e-05](%71, %72, %73) # /home/german/anaconda3/envs/emb36/lib/python3.6/site-packages/torch/nn/functional.py:2328:0\n",
      "  %75 : Float(32, 128, 32, 32, strides=[131072, 1024, 32, 1], requires_grad=1, device=cuda:0) = onnx::Conv[dilations=[1, 1], group=1, kernel_shape=[3, 3], pads=[1, 1, 1, 1], strides=[1, 1]](%74, %layers.3.net.1.net.3.weight, %layers.3.net.1.net.3.bias) # /home/german/anaconda3/envs/emb36/lib/python3.6/site-packages/torch/nn/modules/conv.py:443:0\n",
      "  %76 : Float(32, 128, 32, 32, strides=[131072, 1024, 32, 1], requires_grad=1, device=cuda:0) = onnx::LeakyRelu[alpha=0.01](%75) # /home/german/anaconda3/envs/emb36/lib/python3.6/site-packages/torch/nn/functional.py:1473:0\n",
      "  %77 : Float(128, strides=[1], device=cpu) = onnx::Constant[value=<Tensor>]()\n",
      "  %78 : Float(128, strides=[1], device=cpu) = onnx::Constant[value=<Tensor>]()\n",
      "  %79 : Float(32, 128, 32, 32, strides=[131072, 1024, 32, 1], requires_grad=1, device=cuda:0) = onnx::InstanceNormalization[epsilon=1.0000000000000001e-05](%76, %77, %78) # /home/german/anaconda3/envs/emb36/lib/python3.6/site-packages/torch/nn/functional.py:2328:0\n",
      "  %80 : Float(32, 64, 64, 64, strides=[262144, 4096, 64, 1], requires_grad=1, device=cuda:0) = onnx::ConvTranspose[dilations=[1, 1], group=1, kernel_shape=[2, 2], pads=[0, 0, 0, 0], strides=[2, 2]](%79, %layers.4.upsample.weight, %layers.4.upsample.bias) # /home/german/anaconda3/envs/emb36/lib/python3.6/site-packages/torch/nn/modules/conv.py:925:0\n",
      "  %81 : Float(32, 64, 64, 64, strides=[262144, 4096, 64, 1], requires_grad=1, device=cuda:0) = onnx::Pad[mode=\"constant\", pads=[0, 0, 0, 0, 0, 0, 0, 0], value=0.](%80) # /home/german/anaconda3/envs/emb36/lib/python3.6/site-packages/torch/nn/functional.py:4174:0\n",
      "  %82 : Float(32, 128, 64, 64, strides=[524288, 4096, 64, 1], requires_grad=1, device=cuda:0) = onnx::Concat[axis=1](%68, %81) # /home/german/Documents/oct_embedded/src/networks/unet.py:130:0\n",
      "  %83 : Float(32, 64, 64, 64, strides=[262144, 4096, 64, 1], requires_grad=1, device=cuda:0) = onnx::Conv[dilations=[1, 1], group=1, kernel_shape=[3, 3], pads=[1, 1, 1, 1], strides=[1, 1]](%82, %layers.4.conv.net.0.weight, %layers.4.conv.net.0.bias) # /home/german/anaconda3/envs/emb36/lib/python3.6/site-packages/torch/nn/modules/conv.py:443:0\n",
      "  %84 : Float(32, 64, 64, 64, strides=[262144, 4096, 64, 1], requires_grad=1, device=cuda:0) = onnx::LeakyRelu[alpha=0.01](%83) # /home/german/anaconda3/envs/emb36/lib/python3.6/site-packages/torch/nn/functional.py:1473:0\n",
      "  %85 : Float(64, strides=[1], device=cpu) = onnx::Constant[value=<Tensor>]()\n",
      "  %86 : Float(64, strides=[1], device=cpu) = onnx::Constant[value=<Tensor>]()\n",
      "  %87 : Float(32, 64, 64, 64, strides=[262144, 4096, 64, 1], requires_grad=1, device=cuda:0) = onnx::InstanceNormalization[epsilon=1.0000000000000001e-05](%84, %85, %86) # /home/german/anaconda3/envs/emb36/lib/python3.6/site-packages/torch/nn/functional.py:2328:0\n",
      "  %88 : Float(32, 64, 64, 64, strides=[262144, 4096, 64, 1], requires_grad=1, device=cuda:0) = onnx::Conv[dilations=[1, 1], group=1, kernel_shape=[3, 3], pads=[1, 1, 1, 1], strides=[1, 1]](%87, %layers.4.conv.net.3.weight, %layers.4.conv.net.3.bias) # /home/german/anaconda3/envs/emb36/lib/python3.6/site-packages/torch/nn/modules/conv.py:443:0\n",
      "  %89 : Float(32, 64, 64, 64, strides=[262144, 4096, 64, 1], requires_grad=1, device=cuda:0) = onnx::LeakyRelu[alpha=0.01](%88) # /home/german/anaconda3/envs/emb36/lib/python3.6/site-packages/torch/nn/functional.py:1473:0\n",
      "  %90 : Float(64, strides=[1], device=cpu) = onnx::Constant[value=<Tensor>]()\n",
      "  %91 : Float(64, strides=[1], device=cpu) = onnx::Constant[value=<Tensor>]()\n",
      "  %92 : Float(32, 64, 64, 64, strides=[262144, 4096, 64, 1], requires_grad=1, device=cuda:0) = onnx::InstanceNormalization[epsilon=1.0000000000000001e-05](%89, %90, %91) # /home/german/anaconda3/envs/emb36/lib/python3.6/site-packages/torch/nn/functional.py:2328:0\n",
      "  %93 : Float(32, 32, 128, 128, strides=[524288, 16384, 128, 1], requires_grad=1, device=cuda:0) = onnx::ConvTranspose[dilations=[1, 1], group=1, kernel_shape=[2, 2], pads=[0, 0, 0, 0], strides=[2, 2]](%92, %layers.5.upsample.weight, %layers.5.upsample.bias) # /home/german/anaconda3/envs/emb36/lib/python3.6/site-packages/torch/nn/modules/conv.py:925:0\n",
      "  %94 : Float(32, 32, 128, 128, strides=[524288, 16384, 128, 1], requires_grad=1, device=cuda:0) = onnx::Pad[mode=\"constant\", pads=[0, 0, 0, 0, 0, 0, 0, 0], value=0.](%93) # /home/german/anaconda3/envs/emb36/lib/python3.6/site-packages/torch/nn/functional.py:4174:0\n",
      "  %95 : Float(32, 64, 128, 128, strides=[1048576, 16384, 128, 1], requires_grad=1, device=cuda:0) = onnx::Concat[axis=1](%57, %94) # /home/german/Documents/oct_embedded/src/networks/unet.py:130:0\n",
      "  %96 : Float(32, 32, 128, 128, strides=[524288, 16384, 128, 1], requires_grad=1, device=cuda:0) = onnx::Conv[dilations=[1, 1], group=1, kernel_shape=[3, 3], pads=[1, 1, 1, 1], strides=[1, 1]](%95, %layers.5.conv.net.0.weight, %layers.5.conv.net.0.bias) # /home/german/anaconda3/envs/emb36/lib/python3.6/site-packages/torch/nn/modules/conv.py:443:0\n",
      "  %97 : Float(32, 32, 128, 128, strides=[524288, 16384, 128, 1], requires_grad=1, device=cuda:0) = onnx::LeakyRelu[alpha=0.01](%96) # /home/german/anaconda3/envs/emb36/lib/python3.6/site-packages/torch/nn/functional.py:1473:0\n",
      "  %98 : Float(32, strides=[1], device=cpu) = onnx::Constant[value=<Tensor>]()\n",
      "  %99 : Float(32, strides=[1], device=cpu) = onnx::Constant[value=<Tensor>]()\n",
      "  %100 : Float(32, 32, 128, 128, strides=[524288, 16384, 128, 1], requires_grad=1, device=cuda:0) = onnx::InstanceNormalization[epsilon=1.0000000000000001e-05](%97, %98, %99) # /home/german/anaconda3/envs/emb36/lib/python3.6/site-packages/torch/nn/functional.py:2328:0\n",
      "  %101 : Float(32, 32, 128, 128, strides=[524288, 16384, 128, 1], requires_grad=1, device=cuda:0) = onnx::Conv[dilations=[1, 1], group=1, kernel_shape=[3, 3], pads=[1, 1, 1, 1], strides=[1, 1]](%100, %layers.5.conv.net.3.weight, %layers.5.conv.net.3.bias) # /home/german/anaconda3/envs/emb36/lib/python3.6/site-packages/torch/nn/modules/conv.py:443:0\n",
      "  %102 : Float(32, 32, 128, 128, strides=[524288, 16384, 128, 1], requires_grad=1, device=cuda:0) = onnx::LeakyRelu[alpha=0.01](%101) # /home/german/anaconda3/envs/emb36/lib/python3.6/site-packages/torch/nn/functional.py:1473:0\n",
      "  %103 : Float(32, strides=[1], device=cpu) = onnx::Constant[value=<Tensor>]()\n",
      "  %104 : Float(32, strides=[1], device=cpu) = onnx::Constant[value=<Tensor>]()\n",
      "  %105 : Float(32, 32, 128, 128, strides=[524288, 16384, 128, 1], requires_grad=1, device=cuda:0) = onnx::InstanceNormalization[epsilon=1.0000000000000001e-05](%102, %103, %104) # /home/german/anaconda3/envs/emb36/lib/python3.6/site-packages/torch/nn/functional.py:2328:0\n",
      "  %106 : Float(32, 16, 256, 256, strides=[1048576, 65536, 256, 1], requires_grad=1, device=cuda:0) = onnx::ConvTranspose[dilations=[1, 1], group=1, kernel_shape=[2, 2], pads=[0, 0, 0, 0], strides=[2, 2]](%105, %layers.6.upsample.weight, %layers.6.upsample.bias) # /home/german/anaconda3/envs/emb36/lib/python3.6/site-packages/torch/nn/modules/conv.py:925:0\n",
      "  %107 : Float(32, 16, 256, 256, strides=[1048576, 65536, 256, 1], requires_grad=1, device=cuda:0) = onnx::Pad[mode=\"constant\", pads=[0, 0, 0, 0, 0, 0, 0, 0], value=0.](%106) # /home/german/anaconda3/envs/emb36/lib/python3.6/site-packages/torch/nn/functional.py:4174:0\n",
      "  %108 : Float(32, 32, 256, 256, strides=[2097152, 65536, 256, 1], requires_grad=1, device=cuda:0) = onnx::Concat[axis=1](%46, %107) # /home/german/Documents/oct_embedded/src/networks/unet.py:130:0\n",
      "  %109 : Float(32, 16, 256, 256, strides=[1048576, 65536, 256, 1], requires_grad=1, device=cuda:0) = onnx::Conv[dilations=[1, 1], group=1, kernel_shape=[3, 3], pads=[1, 1, 1, 1], strides=[1, 1]](%108, %layers.6.conv.net.0.weight, %layers.6.conv.net.0.bias) # /home/german/anaconda3/envs/emb36/lib/python3.6/site-packages/torch/nn/modules/conv.py:443:0\n",
      "  %110 : Float(32, 16, 256, 256, strides=[1048576, 65536, 256, 1], requires_grad=1, device=cuda:0) = onnx::LeakyRelu[alpha=0.01](%109) # /home/german/anaconda3/envs/emb36/lib/python3.6/site-packages/torch/nn/functional.py:1473:0\n",
      "  %111 : Float(16, strides=[1], device=cpu) = onnx::Constant[value=<Tensor>]()\n",
      "  %112 : Float(16, strides=[1], device=cpu) = onnx::Constant[value=<Tensor>]()\n",
      "  %113 : Float(32, 16, 256, 256, strides=[1048576, 65536, 256, 1], requires_grad=1, device=cuda:0) = onnx::InstanceNormalization[epsilon=1.0000000000000001e-05](%110, %111, %112) # /home/german/anaconda3/envs/emb36/lib/python3.6/site-packages/torch/nn/functional.py:2328:0\n",
      "  %114 : Float(32, 16, 256, 256, strides=[1048576, 65536, 256, 1], requires_grad=1, device=cuda:0) = onnx::Conv[dilations=[1, 1], group=1, kernel_shape=[3, 3], pads=[1, 1, 1, 1], strides=[1, 1]](%113, %layers.6.conv.net.3.weight, %layers.6.conv.net.3.bias) # /home/german/anaconda3/envs/emb36/lib/python3.6/site-packages/torch/nn/modules/conv.py:443:0\n",
      "  %115 : Float(32, 16, 256, 256, strides=[1048576, 65536, 256, 1], requires_grad=1, device=cuda:0) = onnx::LeakyRelu[alpha=0.01](%114) # /home/german/anaconda3/envs/emb36/lib/python3.6/site-packages/torch/nn/functional.py:1473:0\n",
      "  %116 : Float(16, strides=[1], device=cpu) = onnx::Constant[value=<Tensor>]()\n",
      "  %117 : Float(16, strides=[1], device=cpu) = onnx::Constant[value=<Tensor>]()\n",
      "  %118 : Float(32, 16, 256, 256, strides=[1048576, 65536, 256, 1], requires_grad=1, device=cuda:0) = onnx::InstanceNormalization[epsilon=1.0000000000000001e-05](%115, %116, %117) # /home/german/anaconda3/envs/emb36/lib/python3.6/site-packages/torch/nn/functional.py:2328:0\n",
      "  %119 : Float(32, 9, 256, 256, strides=[589824, 65536, 256, 1], requires_grad=1, device=cuda:0) = onnx::Conv[dilations=[1, 1], group=1, kernel_shape=[1, 1], pads=[0, 0, 0, 0], strides=[1, 1]](%118, %layers.7.weight, %layers.7.bias) # /home/german/anaconda3/envs/emb36/lib/python3.6/site-packages/torch/nn/modules/conv.py:443:0\n",
      "  return (%119)\n",
      "\n"
     ]
    }
   ],
   "source": [
    "\n",
    "import torch.onnx\n",
    "dummy_input=torch.randn(32, 1, 256, 256, device='cuda')\n",
    "torch.onnx.export(model, dummy_input, \"unet_oct.onnx\", verbose=True)\n"
   ]
  },
  {
   "cell_type": "code",
   "execution_count": null,
   "metadata": {},
   "outputs": [],
   "source": [
    "import tensorrt\n",
    "!trtexec --onnx=unet_oct.onnx --saveEngine=unet_engine_pytorch.trt  --explicitBatch --inputIOFormats=fp16:chw --outputIOFormats=fp16:chw --fp16"
   ]
  },
  {
   "cell_type": "code",
   "execution_count": null,
   "metadata": {},
   "outputs": [],
   "source": [
    "import numpy as np\n",
    "oct_process = OCTProcessing(oct_file=oc_file, torchmodel=model, half=False, device='cuda') # 125, 36, 10, 68, 15\n",
    "oct_process.fovea_forward(imgh=256, imgw=256)\n",
    "# tempCPU = []\n",
    "# tempGPU = []\n",
    "# pwCPU = []\n",
    "# pwGPU = []\n",
    "# fps = []\n",
    "\n",
    "for i in range(100):\n",
    "    oct_process.fovea_forward(imgh=256, imgw=256)\n",
    "#     fps.append(oct_process.FPS)\n",
    "#     tempCPU.append(temp_cpu)\n",
    "\n",
    "# print('FPS', np.array(fps).mean(), np.array(fps).std())\n",
    "# print('temp CPU', np.array(tempCPU).mean(), np.array(tempCPU).std())\n",
    "# print('temp GPU',np.array(tempGPU).mean(), np.array(tempGPU).std())\n",
    "# print('Power CPU',np.array(pwCPU).mean(), np.array(pwCPU).std())\n",
    "# print('Power GPU',np.array(pwGPU).mean(), np.array(pwGPU).std())"
   ]
  },
  {
   "cell_type": "code",
   "execution_count": null,
   "metadata": {},
   "outputs": [],
   "source": [
    "oct_process.plot_slo_fovea()\n"
   ]
  },
  {
   "cell_type": "code",
   "execution_count": null,
   "metadata": {},
   "outputs": [],
   "source": [
    "oct_process.plot_overlay_oct_segmentation()\n",
    "oct_process.plot_segmentation_full()\n",
    "oct_process.get_individual_layers_segmentation(layer=[False, True, True, False, True, True, False, False, True])\n",
    "oct_process.plot_selected_layers()"
   ]
  }
 ],
 "metadata": {
  "kernelspec": {
   "display_name": "Python 3.6.13 ('emb36')",
   "language": "python",
   "name": "python3"
  },
  "language_info": {
   "codemirror_mode": {
    "name": "ipython",
    "version": 3
   },
   "file_extension": ".py",
   "mimetype": "text/x-python",
   "name": "python",
   "nbconvert_exporter": "python",
   "pygments_lexer": "ipython3",
   "version": "3.6.13"
  },
  "orig_nbformat": 4,
  "vscode": {
   "interpreter": {
    "hash": "720d895620f9455f7c259784a57ccec9044d6755a7a19969a90a3133c5d232c0"
   }
  }
 },
 "nbformat": 4,
 "nbformat_minor": 2
}
