{
 "cells": [
  {
   "cell_type": "code",
   "execution_count": null,
   "metadata": {},
   "outputs": [],
   "source": [
    "import torch\n",
    "import torch.nn as nn\n",
    "from oct_library import OCTProcessing\n",
    "model_path = '../logs/2022-11-09_19_35_23/checkpoints/model.pth'\n",
    "oc_file = '../dataset/vol/hc04_spectralis_macula_v1_s1_R.vol'\n",
    "model = torch.load(model_path, map_location='cuda')\n",
    "# model = model.half()\n"
   ]
  },
  {
   "cell_type": "code",
   "execution_count": null,
   "metadata": {},
   "outputs": [],
   "source": [
    "import numpy as np\n",
    "oct_process = OCTProcessing(oct_file=oc_file, torchmodel=model, half=True, device='cuda') # 125, 36, 10, 68, 15\n",
    "oct_process.fovea_forward(imgh=256, imgw=256)\n",
    "# tempCPU = []\n",
    "# tempGPU = []\n",
    "# pwCPU = []\n",
    "# pwGPU = []\n",
    "ms = []\n",
    "\n",
    "for i in range(1000):\n",
    "    oct_process.fovea_forward(imgh=256, imgw=256)\n",
    "    ms.append(oct_process.ms)\n",
    "print(np.array(ms).mean(), np.array(ms).std())\n",
    "#     fps.append(oct_process.FPS)\n",
    "#     tempCPU.append(temp_cpu)\n",
    "\n",
    "# print('FPS', np.array(fps).mean(), np.array(fps).std())\n",
    "# print('temp CPU', np.array(tempCPU).mean(), np.array(tempCPU).std())\n",
    "# print('temp GPU',np.array(tempGPU).mean(), np.array(tempGPU).std())\n",
    "# print('Power CPU',np.array(pwCPU).mean(), np.array(pwCPU).std())\n",
    "# print('Power GPU',np.array(pwGPU).mean(), np.array(pwGPU).std())"
   ]
  },
  {
   "cell_type": "code",
   "execution_count": null,
   "metadata": {},
   "outputs": [],
   "source": [
    "import torch.onnx\n",
    "model = torch.load(model_path)\n",
    "model.eval()\n",
    "x = torch.randn(1, 1, 256, 256, requires_grad=True).cuda()\n",
    "\n",
    "torch.onnx.export(model, x, \"unet256_1.onnx\", verbose=False)\n",
    "                    "
   ]
  },
  {
   "cell_type": "code",
   "execution_count": null,
   "metadata": {},
   "outputs": [],
   "source": [
    "import tensorrt as trt\n",
    "import pycuda.driver as cuda\n",
    "import pycuda.autoinit\n",
    "f = open(\"unet256_engine.trt\", \"rb\")\n",
    "runtime = trt.Runtime(trt.Logger(trt.Logger.WARNING)) \n",
    "\n",
    "engine = runtime.deserialize_cuda_engine(f.read())\n",
    "context = engine.create_execution_context()"
   ]
  },
  {
   "cell_type": "code",
   "execution_count": null,
   "metadata": {},
   "outputs": [],
   "source": [
    "import torch\n",
    "from torch2trt import torch2trt\n",
    "model_path = '../logs/2022-11-09_19_35_23/checkpoints/model.pth'\n",
    "oc_file = '../dataset/vol/hc04_spectralis_macula_v1_s1_R.vol'\n",
    "model = torch.load(model_path, map_location='cuda')\n",
    "# create example data\n",
    "x = torch.ones((1, 1, 256, 256)).cuda()\n",
    "\n",
    "# convert to TensorRT feeding sample data as input\n",
    "model_trt = torch2trt(model, [x])\n",
    "\n",
    "torch.save(model_trt.state_dict(), 'unet256_trt.pth')\n"
   ]
  },
  {
   "cell_type": "code",
   "execution_count": null,
   "metadata": {},
   "outputs": [],
   "source": [
    "from torch2trt import TRTModule\n",
    "import numpy as np\n",
    "import torch\n",
    "from oct_library import OCTProcessing\n",
    "model_trt = TRTModule()\n",
    "\n",
    "model_trt.load_state_dict(torch.load('unet256_trt.pth'))\n",
    "oc_file = '../dataset/vol/hc04_spectralis_macula_v1_s1_R.vol'\n",
    "oct_process = OCTProcessing(oct_file=oc_file, torchmodel=model_trt, half=True, device='cuda') # 125, 36, 10, 68, 15\n",
    "oct_process.fovea_forward(imgh=256, imgw=256)\n",
    "# tempCPU = []\n",
    "# tempGPU = []\n",
    "# pwCPU = []\n",
    "# pwGPU = []\n",
    "ms = []\n",
    "\n",
    "for i in range(1000):\n",
    "    oct_process.fovea_forward(imgh=256, imgw=256)\n",
    "    ms.append(oct_process.ms)\n",
    "print(np.array(ms).mean(), np.array(ms).std())"
   ]
  },
  {
   "cell_type": "code",
   "execution_count": null,
   "metadata": {},
   "outputs": [],
   "source": [
    "oct_process.plot_slo_fovea()\n"
   ]
  },
  {
   "cell_type": "code",
   "execution_count": null,
   "metadata": {},
   "outputs": [],
   "source": [
    "oct_process.plot_overlay_oct_segmentation()\n",
    "oct_process.plot_segmentation_full()\n",
    "oct_process.get_individual_layers_segmentation(layer=[False, True, True, False, True, True, False, False, True])\n",
    "oct_process.plot_selected_layers()"
   ]
  }
 ],
 "metadata": {
  "kernelspec": {
   "display_name": "Python 3.6.13 ('emb36')",
   "language": "python",
   "name": "python3"
  },
  "language_info": {
   "codemirror_mode": {
    "name": "ipython",
    "version": 3
   },
   "file_extension": ".py",
   "mimetype": "text/x-python",
   "name": "python",
   "nbconvert_exporter": "python",
   "pygments_lexer": "ipython3",
   "version": "3.6.13"
  },
  "orig_nbformat": 4,
  "vscode": {
   "interpreter": {
    "hash": "720d895620f9455f7c259784a57ccec9044d6755a7a19969a90a3133c5d232c0"
   }
  }
 },
 "nbformat": 4,
 "nbformat_minor": 2
}
